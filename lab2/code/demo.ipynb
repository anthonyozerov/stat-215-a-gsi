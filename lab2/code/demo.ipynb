{
 "cells": [
  {
   "cell_type": "code",
   "execution_count": null,
   "metadata": {},
   "outputs": [],
   "source": [
    "import pandas as pd\n",
    "import geopandas as gpd\n",
    "import matplotlib.pyplot as plt\n",
    "import seaborn as sns\n",
    "from pyreadr import read_r\n",
    "import numpy as np\n",
    "\n",
    "# Load the data\n",
    "ling_data = pd.read_csv('../data/lingData.txt', sep='\\\\s+')\n",
    "ling_location = pd.read_csv('../data/lingLocation.txt', sep='\\\\s+')\n",
    "\n",
    "# ling_data has a column for each question, and ling_location has a column\n",
    "# for each question x answer.  Sorry the columns in ling_location are not usefully named,\n",
    "# but it's not too tricky to figure out which is which.\n",
    "# Note that you still need to clean this data (check for NA's, missing location data, etc.)\n",
    "\n",
    "# Load the question_data which contains quest.mat, quest.use, ans.---\n",
    "question_data = read_r('../data/question_data.RData')"
   ]
  },
  {
   "cell_type": "code",
   "execution_count": null,
   "metadata": {},
   "outputs": [],
   "source": [
    "# Inspect column names\n",
    "print(ling_data.columns)\n",
    "print(ling_location.columns)\n",
    "\n",
    "# Load state geometries\n",
    "state_df = gpd.read_file('../data/shapefiles')\n",
    "state_df = state_df[state_df['iso_a2'] == 'US']  # Filter to only US"
   ]
  },
  {
   "cell_type": "code",
   "execution_count": null,
   "metadata": {},
   "outputs": [],
   "source": [
    "# Define the map theme\n",
    "def my_map_theme():\n",
    "    plt.axis('off')\n",
    "# Note: the below plots are *ugly*. You can make nicer plots!\n",
    "\n",
    "############\n",
    "# Plot for the second person plural answers\n",
    "plural_second_person = ling_data[(ling_data['Q050'].isin([1, 2, 9])) & (ling_data['long'] > -125)]\n",
    "answers_q50 = question_data['ans.50']\n",
    "\n",
    "# Prepare to join\n",
    "answers_q50['Q050'] = (answers_q50.index + 1).astype(str)\n",
    "plural_second_person['Q050'] = plural_second_person['Q050'].astype(str)\n",
    "plural_second_person = plural_second_person.merge(answers_q50, on='Q050', how='inner')\n",
    "# remove unused categories\n",
    "plural_second_person['ans'] = plural_second_person['ans'].cat.remove_unused_categories()\n",
    "\n",
    "# Plot\n",
    "plt.figure(figsize=(10, 8))\n",
    "sns.scatterplot(data=plural_second_person, x='long', y='lat', hue='ans', s=20, alpha=0.5)\n",
    "state_gdf = gpd.GeoDataFrame(state_df)\n",
    "state_gdf.boundary.plot(ax=plt.gca(), color='black')\n",
    "my_map_theme()\n",
    "plt.title(\"Second Person Plural Answers\")\n",
    "plt.show()"
   ]
  },
  {
   "cell_type": "code",
   "execution_count": null,
   "metadata": {},
   "outputs": [],
   "source": [
    "\n",
    "###############\n",
    "# Plot the ling_location data\n",
    "ling_location_filtered = ling_location[ling_location['Longitude'] > -125]\n",
    "\n",
    "plt.figure(figsize=(10, 8))\n",
    "plt.scatter(ling_location_filtered['Longitude'],\n",
    "            ling_location_filtered['Latitude'],\n",
    "            c=np.log10(ling_location_filtered['V12']),\n",
    "            cmap='viridis', s=50, alpha=0.5)\n",
    "state_gdf.boundary.plot(ax=plt.gca(), color='gray')\n",
    "my_map_theme()\n",
    "plt.colorbar(label='log10(V12)')\n",
    "plt.title(\"Ling Location Data\")\n",
    "plt.show()\n",
    "\n",
    "# Note: For county-level plots, you would typically need a shapefile for counties and join the data accordingly."
   ]
  }
 ],
 "metadata": {
  "language_info": {
   "codemirror_mode": {
    "name": "ipython",
    "version": 3
   },
   "file_extension": ".py",
   "mimetype": "text/x-python",
   "name": "python",
   "nbconvert_exporter": "python"
  }
 },
 "nbformat": 4,
 "nbformat_minor": 2
}
