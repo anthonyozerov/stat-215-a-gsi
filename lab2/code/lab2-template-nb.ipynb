{
 "cells": [
  {
   "cell_type": "raw",
   "metadata": {
    "vscode": {
     "languageId": "raw"
    }
   },
   "source": [
    "---\n",
    "title: Lab 2 - Linguistics Data, Stat 215A, Fall 2024\n",
    "date: today\n",
    "execute:\n",
    "    echo: false\n",
    "format:\n",
    "    pdf:\n",
    "        geometry: margin=1in\n",
    "        documentclass: article\n",
    "        fontsize: 10pt\n",
    "---"
   ]
  },
  {
   "cell_type": "markdown",
   "metadata": {
    "vscode": {
     "languageId": "raw"
    }
   },
   "source": [
    "Please use this structure for your report, but you do not have to\n",
    "slavishly follow this template. All bullet points are merely suggestions\n",
    "and potential points to discuss in your writeup. Your report should be\n",
    "no more than 12 pages, including figures. Do not include *any* code or\n",
    "code output in your report. Indicate your informal collaborators on the\n",
    "assignment, if you had any."
   ]
  },
  {
   "cell_type": "markdown",
   "metadata": {},
   "source": [
    "# Introduction\n",
    "\n",
    "Things to potentially include in your introduction:\n",
    "\n",
    "-   Describe the problem of interest and put your analysis in the domain\n",
    "    context. Read the introduction of the two Nerbonne and Kertzschmar\n",
    "    papers for some help here.\n",
    "\n",
    "-   What do you aim to learn from this data?\n",
    "\n",
    "-   Outline what you will be doing in the rest of the report/analysis"
   ]
  },
  {
   "cell_type": "markdown",
   "metadata": {},
   "source": [
    "# The Data {#data}\n",
    "\n",
    "-   What is the data that you will be looking at?\n",
    "\n",
    "-   Provide a brief overview of the data\n",
    "\n",
    "-   How is this data relevant to the problem of interest? In other\n",
    "    words, make the link between the data and the domain problem"
   ]
  },
  {
   "cell_type": "markdown",
   "metadata": {},
   "source": [
    "## Data Cleaning\n",
    "\n",
    "-   This dataset isn't as bad as the TBI data, but there are still some\n",
    "    issues. You should discuss them here and describe your strategies\n",
    "    for dealing with them.\n",
    "\n",
    "-   Remember to record your preprocessing steps and to be transparent!"
   ]
  },
  {
   "cell_type": "markdown",
   "metadata": {},
   "source": [
    "## Exploratory Data Analysis {#data-exploration}\n",
    "\n",
    "-   This is where you compare pairs of questions with discussion and\n",
    "    plots."
   ]
  },
  {
   "cell_type": "markdown",
   "metadata": {},
   "source": [
    "# Dimension Reduction\n",
    "\n",
    "-   This is where you discuss and show plots about the results of\n",
    "    whatever dimension reduction techniques you tried---PCA, variants of\n",
    "    PCA, t-SNE, NMF, random projections, etc.\n",
    "\n",
    "-   What do you learn from your dimension reduction outputs\n",
    "\n",
    "-   Discuss centering and scaling decisions"
   ]
  },
  {
   "cell_type": "markdown",
   "metadata": {},
   "source": [
    "# Clustering\n",
    "\n",
    "-   This is where you discuss and show plots about the results of\n",
    "    whatever clustering methods you tried---k-means, hierarchical\n",
    "    clustering, NMF, etc."
   ]
  },
  {
   "cell_type": "markdown",
   "metadata": {},
   "source": [
    "# Stability of findings to perturbation\n",
    "\n",
    "-   What happens to your clusters when you perturb the data set?\n",
    "\n",
    "-   What happens when you re-run the algorithm with different starting\n",
    "    points?"
   ]
  },
  {
   "cell_type": "markdown",
   "metadata": {},
   "source": [
    "# Conclusion\n",
    "\n",
    "-   Discuss the three realms of data science by answering the questions\n",
    "    in the instructions pdf.\n",
    "\n",
    "-   Come up with a reality check that would help you to verify your\n",
    "    clustering. You do not necessarily have to perform this reality\n",
    "    check, but you can if doable.\n",
    "\n",
    "-   What are the main takeaways from your\n",
    "    exploration/clustering/stability analysis?"
   ]
  },
  {
   "cell_type": "markdown",
   "metadata": {},
   "source": [
    "# Academic Honesty {#academic-integrity-statement}\n",
    "\n",
    "## Statement\n",
    "\n",
    "Please include your academic honesty statement here. Do NOT include your\n",
    "name.\n",
    "\n",
    "## LLM Usage\n",
    "\n",
    "If, in accordance with the policy in `lab2-instructions.pdf`, you used\n",
    "the one exception to the LLM ban to help complete the lab, please see\n",
    "the instructions for what to write here.\n",
    "\n",
    "## Collaborators\n",
    "\n",
    "List your collaborators here."
   ]
  },
  {
   "cell_type": "markdown",
   "metadata": {},
   "source": [
    "\n",
    "# Bibliography\n",
    "\n",
    "Include any references you used in your report here."
   ]
  }
 ],
 "metadata": {
  "language_info": {
   "codemirror_mode": {
    "name": "ipython",
    "version": 3
   },
   "file_extension": ".py",
   "mimetype": "text/x-python",
   "name": "python",
   "nbconvert_exporter": "python"
  }
 },
 "nbformat": 4,
 "nbformat_minor": 2
}
