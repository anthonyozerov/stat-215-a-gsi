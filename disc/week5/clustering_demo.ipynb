{
 "cells": [
  {
   "cell_type": "markdown",
   "metadata": {},
   "source": [
    "# Example clustering notebook\n",
    "\n",
    "Note how we use PCA for data visualization, but cluster on the non-dimension-reduced data (though we use PCA to then visualize the clustering in 2D)! This is only a good idea if the distances in the original data are somehow meaningful. I don't know if it is here, this is just a coding example."
   ]
  },
  {
   "cell_type": "code",
   "execution_count": null,
   "metadata": {},
   "outputs": [],
   "source": [
    "import pandas as pd\n",
    "import numpy as np\n",
    "import matplotlib.pyplot as plt\n",
    "import seaborn as sns\n",
    "from sklearn.decomposition import PCA\n",
    "from sklearn.cluster import DBSCAN\n",
    "from sklearn.preprocessing import StandardScaler\n",
    "import pyreadr\n",
    "\n",
    "# Load the dataset\n",
    "presidential_speech = pyreadr.read_r('./data/presidential_speech.rds')[None]\n",
    "\n",
    "# Quickly look at the dataset\n",
    "print(presidential_speech.iloc[:6, :6])"
   ]
  },
  {
   "cell_type": "code",
   "execution_count": null,
   "metadata": {},
   "outputs": [],
   "source": [
    "\n",
    "# Plot histogram\n",
    "plt.hist(presidential_speech.to_numpy().flatten())\n",
    "plt.show()"
   ]
  },
  {
   "cell_type": "code",
   "execution_count": null,
   "metadata": {},
   "outputs": [],
   "source": [
    "\n",
    "# Visualize the data via PCA\n",
    "pca = PCA(n_components=2)\n",
    "pca_scores = pca.fit_transform(presidential_speech)\n",
    "pca_scores"
   ]
  },
  {
   "cell_type": "code",
   "execution_count": null,
   "metadata": {},
   "outputs": [],
   "source": [
    "\n",
    "# Convert to DataFrame for ease of plotting\n",
    "pc_scores_df = pd.DataFrame(dict(PC1=pca_scores[:, 0], PC2=pca_scores[:, 1]), index=presidential_speech.index)\n",
    "\n",
    "# Plot PCA results\n",
    "sns.scatterplot(data=pc_scores_df, x='PC1', y='PC2')\n",
    "plt.title('PCA of Presidential Speech Data')\n",
    "plt.show()"
   ]
  },
  {
   "cell_type": "code",
   "execution_count": null,
   "metadata": {},
   "outputs": [],
   "source": [
    "\n",
    "# Run DBSCAN\n",
    "#scaler = StandardScaler()\n",
    "#scaled_data = scaler.fit_transform(presidential_speech)\n",
    "dbscan = DBSCAN(eps=10.5, min_samples=3)\n",
    "clusters = dbscan.fit_predict(np.array(presidential_speech))\n",
    "\n",
    "# Add cluster labels to the DataFrame\n",
    "pc_scores_df['cluster'] = clusters\n",
    "\n",
    "# Plot clusters on PC1 vs PC2 plot\n",
    "sns.scatterplot(data=pc_scores_df, x='PC1', y='PC2', hue='cluster', palette='viridis', legend='full')\n",
    "plt.title('DBSCAN Clustering of PCA Results')\n",
    "plt.show()"
   ]
  },
  {
   "cell_type": "code",
   "execution_count": null,
   "metadata": {},
   "outputs": [],
   "source": [
    "\n",
    "# Plot clusters on PC1 vs PC2 plot with president names\n",
    "# Assuming row names are preserved as index in pc_scores_df\n",
    "plt.figure(figsize=(12, 8))\n",
    "sns.scatterplot(data=pc_scores_df, x='PC1', y='PC2', hue='cluster', palette='viridis', legend='full')\n",
    "\n",
    "for i in range(pc_scores_df.shape[0]):\n",
    "    plt.text(pc_scores_df.PC1[i], pc_scores_df.PC2[i], pc_scores_df.index[i], fontsize=9)\n",
    "\n",
    "plt.title('DBSCAN Clustering with President Names')\n",
    "plt.show()\n"
   ]
  }
 ],
 "metadata": {
  "language_info": {
   "codemirror_mode": {
    "name": "ipython",
    "version": 3
   },
   "file_extension": ".py",
   "mimetype": "text/x-python",
   "name": "python",
   "nbconvert_exporter": "python"
  }
 },
 "nbformat": 4,
 "nbformat_minor": 2
}
