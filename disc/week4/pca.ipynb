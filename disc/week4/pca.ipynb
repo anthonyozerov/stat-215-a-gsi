{
 "cells": [
  {
   "cell_type": "raw",
   "metadata": {
    "vscode": {
     "languageId": "raw"
    }
   },
   "source": [
    "---\n",
    "title: \"PCA\"\n",
    "format:\n",
    "  html:\n",
    "    embed-resources: true\n",
    "---"
   ]
  },
  {
   "cell_type": "markdown",
   "metadata": {},
   "source": [
    "[Thanks to Tiffany Tang for the original R version of this]\n",
    "\n",
    "For our exploration of PCA, we will be looking at gene expression data, obtained from The Cancer Genome Atlas, for various patients with breast cancer (BRCA). The genomic basis of breast cancer has been extensively studied in the scientific literature, and in particular, scientists have classified breast cancer occurrences into four different subtypes - each with its own defining characteristics and clinical implications (The Cancer Genome Atlas Research Network 2012).\n",
    "\n",
    "Below, I have gathered the TCGA BRCA gene expression data for 244 patients along with their cancer subtype information and survival status. Given that there are 17814 genes in this dataset, there is no possible way that we can visualize all possible marginals or pairs of features at once, but perhaps, performing dimension reduction via PCA provides a good starting point for visualization."
   ]
  },
  {
   "cell_type": "code",
   "execution_count": null,
   "metadata": {},
   "outputs": [],
   "source": [
    "import pandas as pd\n",
    "import numpy as np\n",
    "import matplotlib.pyplot as plt\n",
    "import seaborn as sns\n",
    "from sklearn.decomposition import PCA\n",
    "from sklearn.preprocessing import StandardScaler\n",
    "from scipy.linalg import svd\n",
    "from time import time"
   ]
  },
  {
   "cell_type": "code",
   "execution_count": null,
   "metadata": {},
   "outputs": [],
   "source": [
    "# load .Rdata file\n",
    "from pyreadr import read_r\n",
    "brca_data = read_r('data/tcga_brca.Rdata')"
   ]
  },
  {
   "cell_type": "code",
   "execution_count": null,
   "metadata": {},
   "outputs": [],
   "source": [
    "X = brca_data['X']  # Replace with actual feature data\n",
    "Y = brca_data['Y']  # Replace with actual labels\n",
    "# X = StandardScaler().fit_transform(X)  # Standardize the data\n",
    "\n",
    "# PCA using sklearn\n",
    "pca = PCA(n_components=0.95)  # retain 95% variance\n",
    "X_pca = pca.fit_transform(X)"
   ]
  },
  {
   "cell_type": "code",
   "execution_count": null,
   "metadata": {},
   "outputs": [],
   "source": [
    "#| label: fig1\n",
    "# Create a DataFrame for scores\n",
    "brca_scores = pd.DataFrame(X_pca, columns=[f'PC{i+1}' for i in range(X_pca.shape[1])])\n",
    "brca_scores['Subtype'] = Y['BRCA_Subtype_PAM50']  # Assuming Y has the subtype information\n",
    "\n",
    "# Plot PC scores\n",
    "plt.figure(figsize=(10, 6))\n",
    "sns.scatterplot(data=brca_scores, x='PC1', y='PC2', hue='Subtype')\n",
    "plt.title('PCA of BRCA Data')\n",
    "plt.show()"
   ]
  },
  {
   "cell_type": "code",
   "execution_count": null,
   "metadata": {},
   "outputs": [],
   "source": [
    "#| label: fig2\n",
    "# Cumulative variance explained\n",
    "cum_var_explained = np.cumsum(pca.explained_variance_ratio_)\n",
    "\n",
    "# Plot cumulative variance explained\n",
    "plt.figure(figsize=(10, 6))\n",
    "plt.plot(cum_var_explained, marker='o')\n",
    "plt.axhline(0.75, color='red', linestyle='--')\n",
    "plt.title('Cumulative Proportion of Variance Explained')\n",
    "plt.xlabel('Number of PCs')\n",
    "plt.ylabel('Cumulative Proportion of Variance Explained')\n",
    "plt.grid()\n",
    "plt.show()"
   ]
  },
  {
   "cell_type": "code",
   "execution_count": null,
   "metadata": {},
   "outputs": [],
   "source": [
    "# How many PC's would you need to explain 75% of the variance?\n",
    "n_pcs = np.argmax(cum_var_explained >= 0.75) + 1\n",
    "print(f'Number of PCs to explain 75% of variance: {n_pcs}')"
   ]
  },
  {
   "cell_type": "code",
   "execution_count": null,
   "metadata": {},
   "outputs": [],
   "source": [
    "# SVD for PCA\n",
    "U, s, Vt = svd(X, full_matrices=False)\n",
    "brca_scores_svd = pd.DataFrame(U @ np.diag(s), columns=[f'PC{i+1}' for i in range(len(s))])\n",
    "brca_scores_svd['Subtype'] = Y['BRCA_Subtype_PAM50']"
   ]
  },
  {
   "cell_type": "code",
   "execution_count": null,
   "metadata": {},
   "outputs": [],
   "source": [
    "#| label: fig3\n",
    "# Compare plots from SVD and sklearn PCA\n",
    "plt.figure(figsize=(10, 6))\n",
    "sns.scatterplot(data=brca_scores_svd, x='PC1', y='PC2', hue='Subtype')\n",
    "plt.title('PCA of BRCA Data using SVD')\n",
    "plt.show()"
   ]
  },
  {
   "cell_type": "code",
   "execution_count": null,
   "metadata": {},
   "outputs": [],
   "source": [
    "\n",
    "# Timing comparisons\n",
    "npcs = 5\n",
    "\n",
    "# Timing PCA with sklearn\n",
    "start_time = time()\n",
    "pca_out = PCA(n_components=npcs).fit(X)\n",
    "time_sklearn = time() - start_time\n",
    "\n",
    "# Timing SVD\n",
    "start_time = time()\n",
    "U, s, Vt = svd(X, full_matrices=False)\n",
    "time_svd = time() - start_time\n",
    "\n",
    "print(f\"Time taken by sklearn PCA: {time_sklearn:.4f} seconds\")\n",
    "print(f\"Time taken by SVD: {time_svd:.4f} seconds\")\n",
    "\n",
    "# Variance explained\n",
    "var_ex1 = (s[:npcs]**2) / np.sum(s**2)\n",
    "var_ex2 = pca.explained_variance_ratio_[:npcs]\n",
    "\n",
    "print(\"Variance explained using sklearn PCA (first 5 PCs):\", var_ex2)\n",
    "print(\"Variance explained using SVD (first 5 PCs):\", var_ex1)"
   ]
  },
  {
   "cell_type": "markdown",
   "metadata": {},
   "source": [
    "Why is the result from SVD different? Note that scikit-learn's PCA centers the data, while we have not centered it for SVD. We would need to make a judgment call in this dataset on whether or not to center and/or scale it."
   ]
  },
  {
   "cell_type": "code",
   "execution_count": null,
   "metadata": {},
   "outputs": [],
   "source": [
    "#| label: fig4\n",
    "# Pair plot using seaborn\n",
    "pair_data = brca_scores_svd.iloc[:, :npcs]  # Select only first n PCs\n",
    "pair_data['Subtype'] = brca_scores_svd['Subtype']\n",
    "sns.pairplot(pair_data, hue='Subtype')\n",
    "plt.suptitle('Pair Plots of First 5 PCs', y=1.02)\n",
    "plt.show()"
   ]
  }
 ],
 "metadata": {
  "language_info": {
   "codemirror_mode": {
    "name": "ipython",
    "version": 3
   },
   "file_extension": ".py",
   "mimetype": "text/x-python",
   "name": "python",
   "nbconvert_exporter": "python"
  }
 },
 "nbformat": 4,
 "nbformat_minor": 2
}
