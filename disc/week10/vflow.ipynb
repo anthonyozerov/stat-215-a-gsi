{
 "cells": [
  {
   "cell_type": "code",
   "execution_count": null,
   "metadata": {},
   "outputs": [],
   "source": [
    "import sklearn\n",
    "from sklearn.datasets import make_classification\n",
    "from sklearn.linear_model import LogisticRegression\n",
    "from sklearn.metrics import accuracy_score, balanced_accuracy_score\n",
    "from sklearn.model_selection import train_test_split\n",
    "from sklearn.tree import DecisionTreeClassifier\n",
    "\n",
    "from vflow import Vset, init_args, dict_to_df, perturbation_stats\n",
    "from vflow.pipeline import build_graph\n",
    "import matplotlib.pyplot as plt\n",
    "import ray"
   ]
  },
  {
   "cell_type": "code",
   "execution_count": null,
   "metadata": {},
   "outputs": [],
   "source": [
    "X, y = make_classification() # make sample dataset\n",
    "X_train, X_test, y_train, y_test = init_args(\n",
    "    train_test_split(X, y, test_size=0.2),\n",
    "    names=[\"X_train\", \"X_test\", \"y_train\", \"y_test\"],  # optionally name the args\n",
    ")"
   ]
  },
  {
   "cell_type": "code",
   "execution_count": null,
   "metadata": {},
   "outputs": [
    {
     "data": {
      "text/plain": [
       "{(X_train,): array([[ 3.09002095,  1.07164149,  1.27756064, ...,  0.50554103,\n",
       "         -1.17279936, -0.03623674],\n",
       "        [-1.71827608,  0.64109107, -1.03750901, ..., -0.05671554,\n",
       "         -0.41822261,  0.84135401],\n",
       "        [-0.79616767, -1.12715551,  3.0047138 , ..., -0.33149386,\n",
       "          0.44645297, -0.98422561],\n",
       "        ...,\n",
       "        [-1.33914552, -0.64866912,  0.34748781, ...,  0.42132544,\n",
       "          1.54922865, -1.51456707],\n",
       "        [ 1.61139232, -0.37020019, -0.7572106 , ..., -0.83326925,\n",
       "          0.60736278, -0.19510879],\n",
       "        [-0.1878855 ,  0.22839174, -0.10599877, ..., -0.16045126,\n",
       "         -1.74348162, -1.62840184]]),\n",
       " '__prev__': ('init',)}"
      ]
     },
     "execution_count": null,
     "metadata": {},
     "output_type": "execute_result"
    }
   ],
   "source": [
    "X_train"
   ]
  },
  {
   "cell_type": "code",
   "execution_count": null,
   "metadata": {},
   "outputs": [
    {
     "data": {
      "text/plain": [
       "<vflow.vset.Vset at 0x722ebcdf95e0>"
      ]
     },
     "execution_count": null,
     "metadata": {},
     "output_type": "execute_result"
    }
   ],
   "source": [
    "subsampling_funcs = [sklearn.utils.resample for _ in range(3)]\n",
    "subsampling_set = Vset(\n",
    "    name=\"subsampling\", vfuncs=subsampling_funcs, output_matching=True\n",
    ")\n",
    "# output_matching=True so that the Vset will have the same outputs on training\n",
    "# and test data\n",
    "subsampling_set"
   ]
  },
  {
   "cell_type": "code",
   "execution_count": null,
   "metadata": {},
   "outputs": [
    {
     "data": {
      "text/plain": [
       "{(X_train,\n",
       "  subsampling_0): array([[ 1.27486871, -0.46825616, -0.67674159, ...,  1.07035033,\n",
       "         -1.95272669, -1.30705649],\n",
       "        [-1.36030675,  0.67528193, -0.76452466, ...,  0.02158205,\n",
       "         -0.59566   ,  1.01273582],\n",
       "        [ 0.87303445,  0.95955919, -0.99414447, ...,  0.92692961,\n",
       "          0.5402778 , -1.10930665],\n",
       "        ...,\n",
       "        [-1.43033977, -1.16120435, -0.15644604, ..., -1.83350341,\n",
       "         -0.24300009,  0.35471554],\n",
       "        [-2.08763387,  0.18120732,  0.20995563, ...,  0.09314141,\n",
       "         -0.55744315,  0.08376006],\n",
       "        [-0.1878855 ,  0.22839174, -0.10599877, ..., -0.16045126,\n",
       "         -1.74348162, -1.62840184]]),\n",
       " (X_train,\n",
       "  subsampling_1): array([[-1.06545538,  1.36427481, -0.6625831 , ...,  1.26754791,\n",
       "         -0.2298068 ,  1.605535  ],\n",
       "        [-1.58529328, -1.40875492, -0.26035977, ...,  0.46688543,\n",
       "         -0.05807849,  0.50538036],\n",
       "        [ 0.83116706,  1.71994096,  0.24709081, ...,  0.53318922,\n",
       "          0.60529407, -0.36249084],\n",
       "        ...,\n",
       "        [ 1.31144239,  0.26757692, -0.32933045, ..., -0.75086191,\n",
       "         -0.50903377,  1.12617769],\n",
       "        [-0.72514999,  0.63679274,  0.97838007, ..., -1.55587439,\n",
       "          0.40428919, -0.67006147],\n",
       "        [-1.19387273,  1.49574146,  0.64122284, ...,  1.02071305,\n",
       "         -0.66487937,  1.20419499]]),\n",
       " (X_train,\n",
       "  subsampling_2): array([[-1.37778015, -0.81365259, -0.13763736, ..., -1.1116796 ,\n",
       "         -0.81845209, -1.37851685],\n",
       "        [-0.06492918, -1.12960816, -0.35151467, ...,  1.51526435,\n",
       "          2.32703158,  0.74938179],\n",
       "        [ 1.03539414,  0.12593037, -2.46275806, ...,  0.64441476,\n",
       "         -0.29058805, -1.36253462],\n",
       "        ...,\n",
       "        [-0.1878855 ,  0.22839174, -0.10599877, ..., -0.16045126,\n",
       "         -1.74348162, -1.62840184],\n",
       "        [-1.06545538,  1.36427481, -0.6625831 , ...,  1.26754791,\n",
       "         -0.2298068 ,  1.605535  ],\n",
       "        [ 3.16080461, -0.93041768, -0.79279009, ...,  1.07532675,\n",
       "         -1.06754118,  1.3641111 ]]),\n",
       " '__prev__': (<vflow.vset.Vset at 0x722ebcdf95e0>, ('init',))}"
      ]
     },
     "execution_count": null,
     "metadata": {},
     "output_type": "execute_result"
    }
   ],
   "source": [
    "X_trains, y_trains = subsampling_set(X_train, y_train)\n",
    "X_trains"
   ]
  },
  {
   "cell_type": "code",
   "execution_count": null,
   "metadata": {},
   "outputs": [
    {
     "data": {
      "text/plain": [
       "{(y_train,\n",
       "  subsampling_0): array([1, 0, 1, 1, 1, 0, 0, 0, 0, 1, 1, 1, 1, 1, 1, 0, 0, 1, 0, 1, 0, 0,\n",
       "        1, 1, 1, 1, 0, 0, 0, 1, 1, 1, 0, 0, 1, 1, 0, 0, 0, 1, 1, 0, 1, 1,\n",
       "        0, 0, 1, 1, 1, 0, 1, 1, 0, 1, 0, 0, 1, 0, 1, 0, 1, 0, 1, 0, 0, 0,\n",
       "        1, 0, 1, 1, 1, 1, 0, 1, 1, 1, 0, 0, 0, 0]),\n",
       " (y_train,\n",
       "  subsampling_1): array([1, 0, 1, 0, 1, 0, 0, 1, 1, 0, 1, 0, 1, 1, 1, 0, 0, 0, 0, 1, 0, 1,\n",
       "        0, 0, 1, 1, 1, 1, 0, 1, 0, 1, 1, 0, 0, 0, 0, 1, 0, 1, 0, 1, 0, 1,\n",
       "        0, 1, 0, 1, 1, 1, 1, 1, 1, 0, 1, 0, 1, 1, 0, 1, 1, 1, 0, 1, 0, 1,\n",
       "        0, 1, 1, 1, 1, 1, 0, 1, 0, 0, 1, 1, 0, 0]),\n",
       " (y_train,\n",
       "  subsampling_2): array([0, 1, 1, 0, 1, 0, 1, 1, 0, 1, 0, 0, 1, 1, 1, 1, 1, 1, 1, 0, 1, 1,\n",
       "        0, 1, 1, 0, 1, 0, 1, 0, 1, 1, 1, 0, 0, 0, 0, 1, 0, 0, 0, 1, 0, 1,\n",
       "        1, 0, 1, 0, 0, 1, 0, 0, 0, 1, 1, 1, 0, 1, 1, 1, 1, 0, 0, 0, 0, 0,\n",
       "        1, 1, 1, 1, 1, 0, 1, 0, 1, 1, 0, 0, 1, 1]),\n",
       " '__prev__': (<vflow.vset.Vset at 0x722ebcdf95e0>, ('init',))}"
      ]
     },
     "execution_count": null,
     "metadata": {},
     "output_type": "execute_result"
    }
   ],
   "source": [
    "y_trains"
   ]
  },
  {
   "cell_type": "code",
   "execution_count": null,
   "metadata": {},
   "outputs": [
    {
     "name": "stderr",
     "output_type": "stream",
     "text": [
      "2024-11-01 10:49:34,865\tINFO worker.py:1816 -- Started a local Ray instance.\n"
     ]
    },
    {
     "data": {
      "text/plain": [
       "{(X_test,\n",
       "  X_train,\n",
       "  subsampling_0,\n",
       "  y_train,\n",
       "  LR): array([1, 0, 1, 1, 1, 0, 1, 0, 1, 0, 0, 0, 0, 1, 1, 0, 0, 1, 0, 0]),\n",
       " (X_test,\n",
       "  X_train,\n",
       "  subsampling_1,\n",
       "  y_train,\n",
       "  LR): array([1, 0, 1, 1, 1, 0, 1, 1, 1, 0, 0, 0, 0, 1, 1, 0, 0, 1, 0, 0]),\n",
       " (X_test,\n",
       "  X_train,\n",
       "  subsampling_2,\n",
       "  y_train,\n",
       "  LR): array([1, 0, 1, 1, 1, 0, 1, 1, 1, 0, 0, 0, 0, 1, 1, 0, 1, 1, 0, 0]),\n",
       " (X_test,\n",
       "  X_train,\n",
       "  subsampling_0,\n",
       "  y_train,\n",
       "  DT): array([1, 0, 1, 1, 1, 0, 1, 1, 1, 0, 1, 0, 0, 0, 0, 0, 0, 1, 0, 0]),\n",
       " (X_test,\n",
       "  X_train,\n",
       "  subsampling_1,\n",
       "  y_train,\n",
       "  DT): array([1, 0, 1, 0, 1, 0, 1, 1, 1, 0, 0, 0, 1, 1, 0, 0, 0, 1, 1, 0]),\n",
       " (X_test,\n",
       "  X_train,\n",
       "  subsampling_2,\n",
       "  y_train,\n",
       "  DT): array([1, 0, 1, 1, 0, 0, 1, 1, 1, 0, 1, 0, 1, 1, 0, 0, 0, 1, 1, 0]),\n",
       " '__prev__': (<vflow.vset.Vset at 0x722ebcdfb950>, ('init',))}"
      ]
     },
     "execution_count": null,
     "metadata": {},
     "output_type": "execute_result"
    }
   ],
   "source": [
    "# define a Vset of models\n",
    "models = [LogisticRegression(), DecisionTreeClassifier()]\n",
    "\n",
    "\n",
    "# create a Vset of models. is_async=True so that the models are fit in parallel\n",
    "modeling_set = Vset(name=\"modeling\", vfuncs=models, vfunc_keys=[\"LR\", \"DT\"], is_async=True)\n",
    "\n",
    "# fit the models\n",
    "\n",
    "# create a Ray cluster with 4 cpus\n",
    "ray.init(num_cpus=4)\n",
    "modeling_set.fit(X_trains, y_trains)\n",
    "preds_test = modeling_set.predict(X_test)\n",
    "ray.shutdown()\n",
    "preds_test"
   ]
  },
  {
   "cell_type": "code",
   "execution_count": null,
   "metadata": {},
   "outputs": [
    {
     "data": {
      "text/plain": [
       "{(X_test, X_train, subsampling_0, y_train, LR, y_test, Acc): 0.7,\n",
       " (X_test, X_train, subsampling_1, y_train, LR, y_test, Acc): 0.75,\n",
       " (X_test, X_train, subsampling_2, y_train, LR, y_test, Acc): 0.7,\n",
       " (X_test, X_train, subsampling_0, y_train, DT, y_test, Acc): 0.7,\n",
       " (X_test, X_train, subsampling_1, y_train, DT, y_test, Acc): 0.85,\n",
       " (X_test, X_train, subsampling_2, y_train, DT, y_test, Acc): 0.9,\n",
       " (X_test,\n",
       "  X_train,\n",
       "  subsampling_0,\n",
       "  y_train,\n",
       "  LR,\n",
       "  y_test,\n",
       "  Bal_Acc): np.float64(0.7070707070707071),\n",
       " (X_test,\n",
       "  X_train,\n",
       "  subsampling_1,\n",
       "  y_train,\n",
       "  LR,\n",
       "  y_test,\n",
       "  Bal_Acc): np.float64(0.75),\n",
       " (X_test,\n",
       "  X_train,\n",
       "  subsampling_2,\n",
       "  y_train,\n",
       "  LR,\n",
       "  y_test,\n",
       "  Bal_Acc): np.float64(0.696969696969697),\n",
       " (X_test,\n",
       "  X_train,\n",
       "  subsampling_0,\n",
       "  y_train,\n",
       "  DT,\n",
       "  y_test,\n",
       "  Bal_Acc): np.float64(0.7070707070707071),\n",
       " (X_test,\n",
       "  X_train,\n",
       "  subsampling_1,\n",
       "  y_train,\n",
       "  DT,\n",
       "  y_test,\n",
       "  Bal_Acc): np.float64(0.8500000000000001),\n",
       " (X_test,\n",
       "  X_train,\n",
       "  subsampling_2,\n",
       "  y_train,\n",
       "  DT,\n",
       "  y_test,\n",
       "  Bal_Acc): np.float64(0.898989898989899),\n",
       " '__prev__': (<vflow.vset.Vset at 0x722f20c648c0>,\n",
       "  (<vflow.vset.Vset at 0x722ebcdfb950>, ('init',)),\n",
       "  ('init',))}"
      ]
     },
     "execution_count": null,
     "metadata": {},
     "output_type": "execute_result"
    }
   ],
   "source": [
    "# get metrics\n",
    "binary_metrics_set = Vset(\n",
    "    name=\"binary_metrics\",\n",
    "    vfuncs=[accuracy_score, balanced_accuracy_score],\n",
    "    vfunc_keys=[\"Acc\", \"Bal_Acc\"],\n",
    ")\n",
    "binary_metrics = binary_metrics_set.evaluate(preds_test, y_test)\n",
    "binary_metrics"
   ]
  },
  {
   "cell_type": "code",
   "execution_count": null,
   "metadata": {},
   "outputs": [
    {
     "data": {
      "text/html": [
       "<div>\n",
       "<style scoped>\n",
       "    .dataframe tbody tr th:only-of-type {\n",
       "        vertical-align: middle;\n",
       "    }\n",
       "\n",
       "    .dataframe tbody tr th {\n",
       "        vertical-align: top;\n",
       "    }\n",
       "\n",
       "    .dataframe thead th {\n",
       "        text-align: right;\n",
       "    }\n",
       "</style>\n",
       "<table border=\"1\" class=\"dataframe\">\n",
       "  <thead>\n",
       "    <tr style=\"text-align: right;\">\n",
       "      <th></th>\n",
       "      <th>init-subsampling</th>\n",
       "      <th>init-subsampling</th>\n",
       "      <th>subsampling</th>\n",
       "      <th>init-modeling</th>\n",
       "      <th>modeling</th>\n",
       "      <th>init-binary_metrics</th>\n",
       "      <th>binary_metrics</th>\n",
       "      <th>out</th>\n",
       "    </tr>\n",
       "  </thead>\n",
       "  <tbody>\n",
       "    <tr>\n",
       "      <th>0</th>\n",
       "      <td>X_test</td>\n",
       "      <td>X_train</td>\n",
       "      <td>subsampling_0</td>\n",
       "      <td>y_train</td>\n",
       "      <td>LR</td>\n",
       "      <td>y_test</td>\n",
       "      <td>Acc</td>\n",
       "      <td>0.700000</td>\n",
       "    </tr>\n",
       "    <tr>\n",
       "      <th>1</th>\n",
       "      <td>X_test</td>\n",
       "      <td>X_train</td>\n",
       "      <td>subsampling_1</td>\n",
       "      <td>y_train</td>\n",
       "      <td>LR</td>\n",
       "      <td>y_test</td>\n",
       "      <td>Acc</td>\n",
       "      <td>0.750000</td>\n",
       "    </tr>\n",
       "    <tr>\n",
       "      <th>2</th>\n",
       "      <td>X_test</td>\n",
       "      <td>X_train</td>\n",
       "      <td>subsampling_2</td>\n",
       "      <td>y_train</td>\n",
       "      <td>LR</td>\n",
       "      <td>y_test</td>\n",
       "      <td>Acc</td>\n",
       "      <td>0.700000</td>\n",
       "    </tr>\n",
       "    <tr>\n",
       "      <th>3</th>\n",
       "      <td>X_test</td>\n",
       "      <td>X_train</td>\n",
       "      <td>subsampling_0</td>\n",
       "      <td>y_train</td>\n",
       "      <td>DT</td>\n",
       "      <td>y_test</td>\n",
       "      <td>Acc</td>\n",
       "      <td>0.700000</td>\n",
       "    </tr>\n",
       "    <tr>\n",
       "      <th>4</th>\n",
       "      <td>X_test</td>\n",
       "      <td>X_train</td>\n",
       "      <td>subsampling_1</td>\n",
       "      <td>y_train</td>\n",
       "      <td>DT</td>\n",
       "      <td>y_test</td>\n",
       "      <td>Acc</td>\n",
       "      <td>0.850000</td>\n",
       "    </tr>\n",
       "    <tr>\n",
       "      <th>5</th>\n",
       "      <td>X_test</td>\n",
       "      <td>X_train</td>\n",
       "      <td>subsampling_2</td>\n",
       "      <td>y_train</td>\n",
       "      <td>DT</td>\n",
       "      <td>y_test</td>\n",
       "      <td>Acc</td>\n",
       "      <td>0.900000</td>\n",
       "    </tr>\n",
       "    <tr>\n",
       "      <th>6</th>\n",
       "      <td>X_test</td>\n",
       "      <td>X_train</td>\n",
       "      <td>subsampling_0</td>\n",
       "      <td>y_train</td>\n",
       "      <td>LR</td>\n",
       "      <td>y_test</td>\n",
       "      <td>Bal_Acc</td>\n",
       "      <td>0.707071</td>\n",
       "    </tr>\n",
       "    <tr>\n",
       "      <th>7</th>\n",
       "      <td>X_test</td>\n",
       "      <td>X_train</td>\n",
       "      <td>subsampling_1</td>\n",
       "      <td>y_train</td>\n",
       "      <td>LR</td>\n",
       "      <td>y_test</td>\n",
       "      <td>Bal_Acc</td>\n",
       "      <td>0.750000</td>\n",
       "    </tr>\n",
       "    <tr>\n",
       "      <th>8</th>\n",
       "      <td>X_test</td>\n",
       "      <td>X_train</td>\n",
       "      <td>subsampling_2</td>\n",
       "      <td>y_train</td>\n",
       "      <td>LR</td>\n",
       "      <td>y_test</td>\n",
       "      <td>Bal_Acc</td>\n",
       "      <td>0.696970</td>\n",
       "    </tr>\n",
       "    <tr>\n",
       "      <th>9</th>\n",
       "      <td>X_test</td>\n",
       "      <td>X_train</td>\n",
       "      <td>subsampling_0</td>\n",
       "      <td>y_train</td>\n",
       "      <td>DT</td>\n",
       "      <td>y_test</td>\n",
       "      <td>Bal_Acc</td>\n",
       "      <td>0.707071</td>\n",
       "    </tr>\n",
       "    <tr>\n",
       "      <th>10</th>\n",
       "      <td>X_test</td>\n",
       "      <td>X_train</td>\n",
       "      <td>subsampling_1</td>\n",
       "      <td>y_train</td>\n",
       "      <td>DT</td>\n",
       "      <td>y_test</td>\n",
       "      <td>Bal_Acc</td>\n",
       "      <td>0.850000</td>\n",
       "    </tr>\n",
       "    <tr>\n",
       "      <th>11</th>\n",
       "      <td>X_test</td>\n",
       "      <td>X_train</td>\n",
       "      <td>subsampling_2</td>\n",
       "      <td>y_train</td>\n",
       "      <td>DT</td>\n",
       "      <td>y_test</td>\n",
       "      <td>Bal_Acc</td>\n",
       "      <td>0.898990</td>\n",
       "    </tr>\n",
       "  </tbody>\n",
       "</table>\n",
       "</div>"
      ],
      "text/plain": [
       "   init-subsampling init-subsampling    subsampling init-modeling modeling  \\\n",
       "0            X_test          X_train  subsampling_0       y_train       LR   \n",
       "1            X_test          X_train  subsampling_1       y_train       LR   \n",
       "2            X_test          X_train  subsampling_2       y_train       LR   \n",
       "3            X_test          X_train  subsampling_0       y_train       DT   \n",
       "4            X_test          X_train  subsampling_1       y_train       DT   \n",
       "5            X_test          X_train  subsampling_2       y_train       DT   \n",
       "6            X_test          X_train  subsampling_0       y_train       LR   \n",
       "7            X_test          X_train  subsampling_1       y_train       LR   \n",
       "8            X_test          X_train  subsampling_2       y_train       LR   \n",
       "9            X_test          X_train  subsampling_0       y_train       DT   \n",
       "10           X_test          X_train  subsampling_1       y_train       DT   \n",
       "11           X_test          X_train  subsampling_2       y_train       DT   \n",
       "\n",
       "   init-binary_metrics binary_metrics       out  \n",
       "0               y_test            Acc  0.700000  \n",
       "1               y_test            Acc  0.750000  \n",
       "2               y_test            Acc  0.700000  \n",
       "3               y_test            Acc  0.700000  \n",
       "4               y_test            Acc  0.850000  \n",
       "5               y_test            Acc  0.900000  \n",
       "6               y_test        Bal_Acc  0.707071  \n",
       "7               y_test        Bal_Acc  0.750000  \n",
       "8               y_test        Bal_Acc  0.696970  \n",
       "9               y_test        Bal_Acc  0.707071  \n",
       "10              y_test        Bal_Acc  0.850000  \n",
       "11              y_test        Bal_Acc  0.898990  "
      ]
     },
     "execution_count": null,
     "metadata": {},
     "output_type": "execute_result"
    }
   ],
   "source": [
    "df = dict_to_df(binary_metrics)\n",
    "df"
   ]
  },
  {
   "cell_type": "code",
   "execution_count": null,
   "metadata": {},
   "outputs": [
    {
     "data": {
      "text/html": [
       "<div>\n",
       "<style scoped>\n",
       "    .dataframe tbody tr th:only-of-type {\n",
       "        vertical-align: middle;\n",
       "    }\n",
       "\n",
       "    .dataframe tbody tr th {\n",
       "        vertical-align: top;\n",
       "    }\n",
       "\n",
       "    .dataframe thead th {\n",
       "        text-align: right;\n",
       "    }\n",
       "</style>\n",
       "<table border=\"1\" class=\"dataframe\">\n",
       "  <thead>\n",
       "    <tr style=\"text-align: right;\">\n",
       "      <th></th>\n",
       "      <th>modeling</th>\n",
       "      <th>binary_metrics</th>\n",
       "      <th>count</th>\n",
       "      <th>mean</th>\n",
       "      <th>std</th>\n",
       "    </tr>\n",
       "  </thead>\n",
       "  <tbody>\n",
       "    <tr>\n",
       "      <th>0</th>\n",
       "      <td>DT</td>\n",
       "      <td>Acc</td>\n",
       "      <td>3</td>\n",
       "      <td>0.816667</td>\n",
       "      <td>0.104083</td>\n",
       "    </tr>\n",
       "    <tr>\n",
       "      <th>1</th>\n",
       "      <td>DT</td>\n",
       "      <td>Bal_Acc</td>\n",
       "      <td>3</td>\n",
       "      <td>0.818687</td>\n",
       "      <td>0.099718</td>\n",
       "    </tr>\n",
       "    <tr>\n",
       "      <th>2</th>\n",
       "      <td>LR</td>\n",
       "      <td>Acc</td>\n",
       "      <td>3</td>\n",
       "      <td>0.716667</td>\n",
       "      <td>0.028868</td>\n",
       "    </tr>\n",
       "    <tr>\n",
       "      <th>3</th>\n",
       "      <td>LR</td>\n",
       "      <td>Bal_Acc</td>\n",
       "      <td>3</td>\n",
       "      <td>0.718013</td>\n",
       "      <td>0.028158</td>\n",
       "    </tr>\n",
       "  </tbody>\n",
       "</table>\n",
       "</div>"
      ],
      "text/plain": [
       "  modeling binary_metrics  count      mean       std\n",
       "0       DT            Acc      3  0.816667  0.104083\n",
       "1       DT        Bal_Acc      3  0.818687  0.099718\n",
       "2       LR            Acc      3  0.716667  0.028868\n",
       "3       LR        Bal_Acc      3  0.718013  0.028158"
      ]
     },
     "execution_count": null,
     "metadata": {},
     "output_type": "execute_result"
    }
   ],
   "source": [
    "perturbation_stats(df, 'modeling', 'binary_metrics')"
   ]
  },
  {
   "cell_type": "code",
   "execution_count": null,
   "metadata": {},
   "outputs": [
    {
     "data": {
      "image/png": "[encoded data removed]",
      "text/plain": [
       "<Figure size 640x480 with 1 Axes>"
      ]
     },
     "metadata": {},
     "output_type": "display_data"
    }
   ],
   "source": [
    "G = build_graph(binary_metrics, draw=True)\n",
    "plt.show()"
   ]
  }
 ],
 "metadata": {
  "kernelspec": {
   "display_name": "215a",
   "language": "python",
   "name": "python3"
  },
  "language_info": {
   "codemirror_mode": {
    "name": "ipython",
    "version": 3
   },
   "file_extension": ".py",
   "mimetype": "text/x-python",
   "name": "python",
   "nbconvert_exporter": "python",
   "pygments_lexer": "ipython3",
   "version": "3.12.6"
  }
 },
 "nbformat": 4,
 "nbformat_minor": 2
}
