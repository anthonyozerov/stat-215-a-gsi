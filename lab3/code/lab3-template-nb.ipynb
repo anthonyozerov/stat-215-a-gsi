{
 "cells": [
  {
   "cell_type": "raw",
   "metadata": {
    "vscode": {
     "languageId": "raw"
    }
   },
   "source": [
    "---\n",
    "title: Lab 3 - Lab 3 - Parallelizing k-means, Stat 215A, Fall 2024\n",
    "date: today\n",
    "execute:\n",
    "    echo: false\n",
    "format:\n",
    "    pdf:\n",
    "        geometry: margin=1in\n",
    "        documentclass: article\n",
    "        fontsize: 10pt\n",
    "---"
   ]
  },
  {
   "cell_type": "markdown",
   "metadata": {},
   "source": [
    "\n",
    "Please use this structure for your report. Your report should be no more\n",
    "than 12 pages, including figures. Do not include *any* code or code\n",
    "output in your report. Indicate your informal collaborators on the\n",
    "assignment, if you had any."
   ]
  },
  {
   "cell_type": "markdown",
   "metadata": {},
   "source": [
    "\n",
    "# Introduction"
   ]
  },
  {
   "cell_type": "markdown",
   "metadata": {},
   "source": [
    "# Similarity implementation"
   ]
  },
  {
   "cell_type": "markdown",
   "metadata": {},
   "source": [
    "# Algorithm 1 implementation"
   ]
  },
  {
   "cell_type": "markdown",
   "metadata": {},
   "source": [
    "# Result"
   ]
  },
  {
   "cell_type": "markdown",
   "metadata": {},
   "source": [
    "# Academic Honesty\n",
    "\n",
    "## Statement\n",
    "\n",
    "Please include your academic honesty statement here. Do NOT include your\n",
    "name.\n",
    "\n",
    "## LLM Usage\n",
    "\n",
    "If, in accordance with the policy in `lab3-instructions.pdf`, you used LLMs\n",
    "when completing this lab, please see the instructions for what to write\n",
    "here.\n",
    "\n",
    "### Coding\n",
    "\n",
    "### Writing\n",
    "\n",
    "## Collaborators\n",
    "\n",
    "List your collaborators here.\n",
    "\n",
    "# Bibliography\n",
    "\n",
    "Include any references you used in your report here."
   ]
  }
 ],
 "metadata": {
  "language_info": {
   "codemirror_mode": {
    "name": "ipython",
    "version": 3
   },
   "file_extension": ".py",
   "mimetype": "text/x-python",
   "name": "python",
   "nbconvert_exporter": "python"
  }
 },
 "nbformat": 4,
 "nbformat_minor": 2
}
